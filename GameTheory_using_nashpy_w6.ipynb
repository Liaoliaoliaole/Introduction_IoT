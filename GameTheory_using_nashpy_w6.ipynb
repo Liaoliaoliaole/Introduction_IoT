{
 "cells": [
  {
   "cell_type": "markdown",
   "metadata": {},
   "source": [
    "# BL40A2010 Introduction to IoT-Based Systems\n",
    "\n",
    "## Assignment 6, 11.02.2023\n",
    "\n",
    "### Author:Liyuan Liu"
   ]
  },
  {
   "cell_type": "markdown",
   "metadata": {},
   "source": [
    "**Prisoner's dilemma** is a standard example of a game analyzed in game theory that shows why two completely rational individuals might not cooperate, even if it appears that it is in their best interests to do so. It was originally framed by Merrill Flood and Melvin Dresher while working at RAND in 1950. Albert W. Tucker formalized the game with prison sentence rewards and named it \"prisoner's dilemma\", presenting it as follows:\n",
    "\n",
    "\"Two members of a criminal gang are arrested and imprisoned. Each prisoner is in solitary confinement with no means of communicating with the other. The prosecutors lack sufficient evidence to convict the pair on the principal charge, but they have enough to convict both on a lesser charge. Simultaneously, the prosecutors offer each prisoner a bargain. Each prisoner is given the opportunity either to betray the other by testifying that the other committed the crime, or to cooperate with the other by remaining silent. The possible outcomes are:\n",
    "\n",
    "- If A and B each betray the other (not-cooperating to each other), each of them serves $z$ years in prison (payoff of $-z$)\n",
    "- If A betrays B (not-cooperating with B) but B remains silent (cooperating with A), A will serve $y$ years in prison (payoff $-y$) and B will serve $w$ years  (payoff of $-w$).\n",
    "- If B betrays A (not-cooperating with A) but A remains silent (cooperating with B), B will serve $y$ years in prison (payoff $-y$) and A will serve $w$ years  (payoff of $-w$).\n",
    "- If A and B both remain silent, both of them will serve $x$ years in prison (payoff of $-x$).\"\n",
    "\n",
    "The payoff table is presented below. \n",
    "\n",
    "|                | $B$ cooperates  | $B$ not-cooperating   |\n",
    "|----------------|:---------------:|--------------:|\n",
    "| $A$ cooperates |  $A \\rightarrow -x$   | $A\\rightarrow -w$  |\n",
    "|                |  $B\\rightarrow -x$   | $B\\rightarrow -y$  |\n",
    "|                |                 |               |\n",
    "| $A$ not-cooperating   |  $A\\rightarrow -y$   | $A\\rightarrow -z$  |\n",
    "|                |  $B\\rightarrow -w$   | $B\\rightarrow -z$  |\n",
    "\n",
    "**However, this is only a *Prisoner's Dilemma GAME* for A GIVEN RELATION between the years in prison (payoffs) as to be studied next.**\n",
    "\n",
    "ps. Text adapted from [Wikipedia](https://en.wikipedia.org/wiki/Prisoner's_dilemma)."
   ]
  },
  {
   "cell_type": "markdown",
   "metadata": {},
   "source": [
    "**(1) Consider the Prisoner's dilemma description given above.**\n",
    "\n",
    "**(a) What is the relation between the payoffs values $x\\geq 0$, $y\\geq 0$, $w\\geq 0$ and $z \\geq 0$ so that the game can be classified as [Prisoner's Dilemma](https://en.wikipedia.org/wiki/Prisoner's_dilemma)?**\n",
    "\n",
    "**(b) Verify the results (i.e., the proposed inequality) with numerical examples using [nashpy](https://nashpy.readthedocs.io/en/stable/index.html). Please provide one example when the inequality holds and one it does not (check my example for Dove and Hawyk game).**"
   ]
  },
  {
   "cell_type": "markdown",
   "metadata": {},
   "source": [
    "(a)\n",
    "In order for the game to be considered a prisoner's dilemma, the following relationships between the payoffs values 𝑥≥0, 𝑦≥0, 𝑤≥0, and 𝑧≥0 must hold:  \n",
    "      1.z > x that the payoff for betraying each other, −𝑧, is greater than the payoff for remaining silent and cooperating with each other, −𝑥. In other words, if both players betray each other, they will each receive a higher sentence than if they both remained silent.  \n",
    "      2.w > y means that the payoff of betraying (not-cooperating) is higher than the payoff of cooperating. In the Prisoner's Dilemma, this means that if either prisoner betrays the other while the other remains silent, they would receive a higher payoff (in terms of years in prison) than if both of them remained silent.  \n",
    "      3.x > y: This means that if both prisoners remain silent, they will serve less time in prison than if one betrays the other.  \n",
    "      4.w > z: This means that if one prisoner betrays the other, but the other remains silent, the betrayer will serve less time in prison than if both betray each other or cooperate.  \n",
    "    \n",
    "Putting together: w > z > x > y"
   ]
  },
  {
   "cell_type": "code",
   "execution_count": 7,
   "metadata": {},
   "outputs": [
    {
     "data": {
      "text/plain": [
       "Bi matrix game with payoff matrices:\n",
       "\n",
       "Row player:\n",
       "[[-1 -6]\n",
       " [ 0 -3]]\n",
       "\n",
       "Column player:\n",
       "[[-1  0]\n",
       " [-6 -3]]"
      ]
     },
     "execution_count": 7,
     "metadata": {},
     "output_type": "execute_result"
    }
   ],
   "source": [
    "import nashpy as nash\n",
    "import numpy as np\n",
    "\n",
    "#Test 1 w > z > x > y\n",
    "#𝑧 = 3, 𝑦 = 0, 𝑤 = 6, and 𝑥 = 1\n",
    "A = np.array([[-1, -6], [0, -3]])\n",
    "B = np.array([[-1, 0], [-6, -3]])\n",
    "prisoners_dilemma = nash.Game(A, B)\n",
    "prisoners_dilemma"
   ]
  },
  {
   "cell_type": "code",
   "execution_count": 3,
   "metadata": {},
   "outputs": [
    {
     "data": {
      "text/plain": [
       "[(array([0., 1.]), array([0., 1.]))]"
      ]
     },
     "execution_count": 3,
     "metadata": {},
     "output_type": "execute_result"
    }
   ],
   "source": [
    "eqs = prisoners_dilemma.support_enumeration()\n",
    "list(eqs)"
   ]
  },
  {
   "cell_type": "markdown",
   "metadata": {},
   "source": [
    "(Bottom, Right)This indicates a unique Nash equilibrium (domiant strategy) of both being cooperating."
   ]
  },
  {
   "cell_type": "code",
   "execution_count": null,
   "metadata": {},
   "outputs": [
    {
     "data": {
      "text/plain": [
       "Bi matrix game with payoff matrices:\n",
       "\n",
       "Row player:\n",
       "[[-1 -6]\n",
       " [ 0 -8]]\n",
       "\n",
       "Column player:\n",
       "[[-1  0]\n",
       " [-6 -8]]"
      ]
     },
     "execution_count": 5,
     "metadata": {},
     "output_type": "execute_result"
    }
   ],
   "source": [
    "#Test2 z > w\n",
    "#𝑧 = 8, 𝑦 = 0, 𝑤 = 6, and 𝑥 = 1\n",
    "A = np.array([[-1, -6], [0, -8]])\n",
    "B = np.array([[-1, 0], [-6, -8]])\n",
    "prisoners_dilemma2 = nash.Game(A, B)\n",
    "prisoners_dilemma2"
   ]
  },
  {
   "cell_type": "code",
   "execution_count": 6,
   "metadata": {},
   "outputs": [
    {
     "data": {
      "text/plain": [
       "[(array([1., 0.]), array([0., 1.])),\n",
       " (array([0., 1.]), array([1., 0.])),\n",
       " (array([0.66666667, 0.33333333]), array([0.66666667, 0.33333333]))]"
      ]
     },
     "execution_count": 6,
     "metadata": {},
     "output_type": "execute_result"
    }
   ],
   "source": [
    "eqs2 = prisoners_dilemma2.support_enumeration()\n",
    "list(eqs2)"
   ]
  },
  {
   "cell_type": "markdown",
   "metadata": {},
   "source": [
    "The first line means that player A will choose strategy 1 (not cooperate) with probability 1 and player B will choose strategy 0 (cooperate) with probability 1.\n",
    "\n",
    "The second line means that player B will choose strategy 1 (not cooperate) with probability 1 and player A will choose strategy 0 (cooperate) with probability 1.\n",
    "\n",
    "The third line means that both player A and player B will choose both strategies with probability 0.66666667 and 0.33333333 respectively."
   ]
  },
  {
   "cell_type": "markdown",
   "metadata": {},
   "source": [
    "**(2) Justify why the game from the previous exercise is or is not a good (reasonable) model when $A$ and $B$ are:**\n",
    "\n",
    "**1. Two trained members from the army when they are in prison.**\n",
    "\n",
    "\n",
    "**2. Competitive companies in the market discussing standardization.**\n",
    "\n",
    "\n",
    "**3. Two different autonomous IoT-based home energy management algorithms that are focus on energy efficiency.**\n",
    "\n",
    "\n",
    "**4. Two different autonomous IoT-based home energy management algorithms that are focus on profit maximization.**\n",
    "\n",
    "**ps. You need to think about the assumption used in Game Theory and in the Prisoner's dilemma problem setting.**"
   ]
  },
  {
   "cell_type": "markdown",
   "metadata": {},
   "source": [
    "Answer:\n",
    "1. Yes, the prisoner's dilemma game is a good model when 𝐴 and 𝐵 are two trained members from the army when they are in prison. In the case it is assumed that they have a high level of training, discipline and professionalism. These traits can play a crucial role in the decision-making process, particularly in the context of the prisoner's dilemma game. For example, if the two members were both trained in the same way, they might be more likely to act in a cooperative manner, whereas if they were trained differently, their strategies could be influenced by their different training styles. Additionally, their previous experiences in the army might also play a role in how they make decisions, for example, if they were both part of a successful military mission that was achieved through cooperation, they may be more likely to follow this pattern in the prisoner's dilemma game.\n",
    "\n",
    "2. The Prisoner's Dilemma model may not be a good model for two competitive companies discussing standardization. This is because the assumptions and payoffs in the game do not align well with the situation of two companies negotiating. For example, the payoffs in the game reflect the consequences of individual actions, such as serving longer prison sentences, which do not correspond to the consequences of a company's decisions in a standardization negotiation. Additionally, the assumption of no communication between the two individuals in the game does not align with the typical situation of companies negotiating, where communication and negotiation are key components of the process.\n",
    "\n",
    "3. No.The game assumes that the players are in competition and have conflicting interests, which is not the case here. The two algorithms have a shared goal of energy efficiency and can work together to achieve it, making the prisoner's dilemma game inapplicable. Additionally, the assumption of no communication between the two individuals in the game does not align with the typical situation of autonomous algorithms, where communication and coordination between systems is a key aspect of their operation.\n",
    "\n",
    "4. Yes, the prisoner's dilemma game can be a good model when 𝐴 and 𝐵 are two different autonomous IoT-based home energy management algorithms that are focus on profit maximization. The game represents the situation where the two algorithms are competing for the same resource and their decisions may affect each other. For example, one algorithm may choose to consume more energy to maximize its profits, while the other may choose to conserve energy to minimize costs. This creates a situation where each algorithm must weigh the benefits of maximizing its profits against the costs of affecting the other algorithm's profits. The prisoner's dilemma game is a good model for this scenario as it represents the situation where each player must make a decision that will affect the other player's payoff."
   ]
  },
  {
   "cell_type": "code",
   "execution_count": null,
   "metadata": {},
   "outputs": [],
   "source": []
  }
 ],
 "metadata": {
  "kernelspec": {
   "display_name": "Python 3 (ipykernel)",
   "language": "python",
   "name": "python3"
  },
  "language_info": {
   "codemirror_mode": {
    "name": "ipython",
    "version": 3
   },
   "file_extension": ".py",
   "mimetype": "text/x-python",
   "name": "python",
   "nbconvert_exporter": "python",
   "pygments_lexer": "ipython3",
   "version": "3.7.12"
  }
 },
 "nbformat": 4,
 "nbformat_minor": 4
}
